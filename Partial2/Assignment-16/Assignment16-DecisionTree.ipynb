{
 "cells": [
  {
   "cell_type": "markdown",
   "metadata": {},
   "source": [
    "# Decision Tree"
   ]
  },
  {
   "cell_type": "markdown",
   "metadata": {},
   "source": [
    "### Assignment 16\n",
    "### TC2011 Intelligent Systems\n",
    "#### Constanza Madrigal Reyes A01226021\n",
    "#### November 7, 2018"
   ]
  },
  {
   "cell_type": "markdown",
   "metadata": {},
   "source": [
    "### Rapidminer "
   ]
  },
  {
   "cell_type": "markdown",
   "metadata": {},
   "source": [
    "- Design Area\n",
    "\n",
    "![title](design.png)\n",
    "\n",
    "\n",
    "- Plot of the tree\n",
    "\n",
    "![title](plot.png)\n",
    "\n",
    "\n",
    "- Text of the tree\n",
    "\n",
    "![title](text.png)\n"
   ]
  },
  {
   "cell_type": "markdown",
   "metadata": {},
   "source": [
    "### Python"
   ]
  },
  {
   "cell_type": "code",
   "execution_count": 7,
   "metadata": {},
   "outputs": [],
   "source": [
    "from sklearn import tree\n",
    "from sklearn.model_selection import train_test_split\n",
    "import csv\n",
    "import numpy as np\n",
    "\n",
    "\n",
    "def numeric_equivalence(row):\n",
    "    numeric_row = []\n",
    "    \n",
    "    for element in row:\n",
    "        if element == \"Yes\":\n",
    "            numeric_row.append(1)\n",
    "        elif element == \"No\":\n",
    "            numeric_row.append(0)\n",
    "        elif element == \"Some\":\n",
    "            numeric_row.append(3)\n",
    "        elif element == \"Full\":\n",
    "            numeric_row.append(4)\n",
    "        elif element == \"None\":\n",
    "            numeric_row.append(2)\n",
    "        elif element == \"$\":\n",
    "            numeric_row.append(5)\n",
    "        elif element == \"$$\":\n",
    "            numeric_row.append(6)\n",
    "        elif element == \"$$$\":\n",
    "            numeric_row.append(7)\n",
    "        elif element == \"0-10\":\n",
    "            numeric_row.append(8)\n",
    "        elif element == \"10-30\":\n",
    "            numeric_row.append(9)\n",
    "        elif element == \"30-60\":\n",
    "            numeric_row.append(10)\n",
    "        elif element == \">60\":\n",
    "            numeric_row.append(11)\n",
    "        elif element == \"French\":\n",
    "            numeric_row.append(12)\n",
    "        elif element == \"Thai\":\n",
    "            numeric_row.append(13)\n",
    "        elif element == \"Burger\":\n",
    "            numeric_row.append(14)\n",
    "        elif element == \"Italian\":\n",
    "            numeric_row.append(15)\n",
    "    return numeric_row\n",
    "\n",
    "labels_array = []\n",
    "feautures_array = []\n",
    "with open('1560_ShouldWeWait.csv') as csv_file:\n",
    "    csv_reader = csv.reader(csv_file, delimiter=',', dialect=csv.excel_tab)\n",
    "    line_count = 0\n",
    "    for row in csv_reader:\n",
    "        if line_count != 0:\n",
    "            temp_array_feautures = numeric_equivalence([row[1],row[2],row[3],row[4],row[5],row[6],row[7],row[8],row[9],row[10]])\n",
    "            temp_array_labels = numeric_equivalence([row[11]])\n",
    "            feautures_array.append(temp_array_feautures)\n",
    "            labels_array.append(temp_array_labels)\n",
    "        line_count = line_count + 1\n",
    "        \n",
    "features = np.array(feautures_array)\n",
    "labels = np.array(labels_array)"
   ]
  },
  {
   "cell_type": "code",
   "execution_count": 8,
   "metadata": {},
   "outputs": [],
   "source": [
    "X_train, X_test, y_train, y_test = train_test_split(\n",
    "    features,\n",
    "    labels,\n",
    "    test_size=0.3,\n",
    "    random_state=42,\n",
    ")"
   ]
  },
  {
   "cell_type": "code",
   "execution_count": 9,
   "metadata": {},
   "outputs": [
    {
     "data": {
      "text/plain": [
       "0.75"
      ]
     },
     "execution_count": 9,
     "metadata": {},
     "output_type": "execute_result"
    }
   ],
   "source": [
    "clf = tree.DecisionTreeClassifier()\n",
    "clf.fit(X=X_train, y=y_train)\n",
    "clf.feature_importances_ \n",
    "clf.score(X=X_test, y=y_test)"
   ]
  },
  {
   "cell_type": "code",
   "execution_count": null,
   "metadata": {},
   "outputs": [],
   "source": []
  }
 ],
 "metadata": {
  "kernelspec": {
   "display_name": "Python 3",
   "language": "python",
   "name": "python3"
  },
  "language_info": {
   "codemirror_mode": {
    "name": "ipython",
    "version": 3
   },
   "file_extension": ".py",
   "mimetype": "text/x-python",
   "name": "python",
   "nbconvert_exporter": "python",
   "pygments_lexer": "ipython3",
   "version": "3.7.0"
  }
 },
 "nbformat": 4,
 "nbformat_minor": 2
}
