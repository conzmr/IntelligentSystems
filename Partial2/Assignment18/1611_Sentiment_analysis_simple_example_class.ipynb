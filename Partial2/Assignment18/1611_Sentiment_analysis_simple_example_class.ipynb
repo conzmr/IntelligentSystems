{
 "cells": [
  {
   "cell_type": "code",
   "execution_count": 1,
   "metadata": {},
   "outputs": [],
   "source": [
    "import nltk.classify.util\n",
    "from nltk.classify import NaiveBayesClassifier\n",
    "from nltk.corpus import names\n"
   ]
  },
  {
   "cell_type": "code",
   "execution_count": 2,
   "metadata": {},
   "outputs": [],
   "source": [
    "#A fuction that returns a dictionary of each word\n",
    "def word_feats(word):\n",
    "    return {word: True}\n"
   ]
  },
  {
   "cell_type": "code",
   "execution_count": 3,
   "metadata": {},
   "outputs": [],
   "source": [
    "def featureSet():\n",
    "    # read external file with ONE WORD PER LINE\n",
    "    text_file = open(\"1614_PythonCodeToModifyForSPANISH.txt\", \"r\")\n",
    "    # convert IT to list\n",
    "    positive_vocab = text_file.read().lstrip('\\n').rstrip('\\n').split('\\n')\n",
    "    \n",
    "    text_file = open(\"1614_PythonCodeToModifyForSPANISH.txt\", \"r\")\n",
    "    # convert IT to list\n",
    "    negative_vocab = text_file.read().lstrip('\\n').rstrip('\\n').split('\\n')\n",
    "    \n",
    "\n",
    "    #This will return a list of classified featuresets which are tuples\n",
    "    #Where the featuresets are dictionaries and the other a label:\n",
    "    #i.e.,(featureset(is a dict), label)\n",
    "    \n",
    "    positive_features = [(word_feats(pos), 'pos') for pos in positive_vocab]\n",
    "    negative_features = [(word_feats(neg), 'neg') for neg in negative_vocab]\n",
    "    \n",
    "    return negative_features + positive_features"
   ]
  },
  {
   "cell_type": "code",
   "execution_count": 4,
   "metadata": {},
   "outputs": [
    {
     "name": "stdout",
     "output_type": "stream",
     "text": [
      "Prediction Sentence       \n",
      "pos                       \n",
      "pos        # python instructions to update the sentiment analysis code\n",
      "pos        # for considering external files:\n",
      "pos        # - list of negative words\n",
      "pos        # - list of positive words\n",
      "pos        # - list of positive sentences to determine the sentiment \n",
      "pos        # - list of negative sentendes to determine the sentiment\n",
      "pos        # read external file with one word per line\n",
      "pos        text_file = open(\"positivewords_spanish.txt\", \"r\")\n",
      "pos        # convert it to list\n",
      "pos        positive_vocab = text_file.read().lstrip('\\n').rstrip('\\n').split('\\n')\n",
      "pos        # read external file with one sentence per line\n",
      "pos        text_file = open(\"positivesentences_spanish.txt\", \"r\")\n",
      "pos        sentences1 = text_file.read().rstrip('\\n').split('\\n')\n",
      "pos        # join two list of sentences\n",
      "pos        sentences = sentences1 + sentences2\n"
     ]
    }
   ],
   "source": [
    "train_set = featureSet()\n",
    "\n",
    "#This uses a ML-method based on Baive Bayes algorithm to train the set.\n",
    "#The training returns problabilities such as: \"what is the probability\n",
    "#of this being a positive scentance given that it contains these words...\"\n",
    "classifier = NaiveBayesClassifier.train(train_set) \n",
    " \n",
    "# Predict\n",
    "\n",
    "# read external file with ONE SENTENCE PER LINE\n",
    "text_file = open(\"1614_PythonCodeToModifyForSPANISH.txt\", \"r\")\n",
    "# convert IT to list\n",
    "sentences1 = text_file.read().rstrip('\\n').split('\\n')\n",
    "\n",
    "# read external file with ONE SENTENCE PER LINE\n",
    "text_file = open(\"1614_PythonCodeToModifyForSPANISH.txt\", \"r\")\n",
    "# convert IT to list\n",
    "sentences2 = text_file.read().rstrip('\\n').split('\\n')\n",
    "\n",
    "\n",
    "# join two list of sentences\n",
    "sentences = sentences1 + sentences2\n",
    "predictions = {}\n",
    "\n",
    "#Iterate through sentences to get predictions\n",
    "for sentence in sentences:\n",
    "    #This is some very simple text preparation:\n",
    "    sentence = sentence.lower()\n",
    "    words = sentence.split(' ')\n",
    "    #Store words in a dict\n",
    "    featureset = {}\n",
    "    for word in words:\n",
    "        featureset.update(word_feats(word))\n",
    "    # Use classifier to get a prediction for the sentence\n",
    "    prediction = classifier.classify(featureset)\n",
    "    #Store in dict\n",
    "    predictions[sentence] = prediction\n",
    "\n",
    "# Print predictions in a table\n",
    "print(\"{:<10} {:<15}\".format('Prediction','Sentence'))\n",
    "for k, v in predictions.items():\n",
    "    print(\"{:<10} {:<15}\".format(v, k))  "
   ]
  }
 ],
 "metadata": {
  "kernelspec": {
   "display_name": "Python 3",
   "language": "python",
   "name": "python3"
  },
  "language_info": {
   "codemirror_mode": {
    "name": "ipython",
    "version": 3
   },
   "file_extension": ".py",
   "mimetype": "text/x-python",
   "name": "python",
   "nbconvert_exporter": "python",
   "pygments_lexer": "ipython3",
   "version": "3.7.0"
  }
 },
 "nbformat": 4,
 "nbformat_minor": 2
}
